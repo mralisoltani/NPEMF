{
 "cells": [
  {
   "cell_type": "markdown",
   "id": "4bedebb1-abf3-44a4-aeb5-7f1abd68af46",
   "metadata": {},
   "source": [
    "***1- The codes for managing the project. The following link is the reference to the tutorials.*** <br>\n",
    "https://dvc.org/doc/start\n",
    "***\n",
    "\n",
    "1- Initializee the dvc repository. <br>\n",
    "2- commit what we did so far. <br>\n",
    "3- download the data with dvc get wrapper. <br>\n",
    "4- add data to dvc tracking. this line will create a file with same name as our data with .dvc format and also a .gitignore file. <br>\n",
    "5- add the tracking data and git placeholder with git command. <br>\n",
    "6- create the remote locally or online. add the remote as a dvc remote. <br>\n",
    "7- push the data using dvc order and follow by a git commit to save the version control. <br>\n",
    "8- change between different version of the model and data. <br>\n",
    "9- just use these codes to add and commit new modified datasets. <br>"
   ]
  },
  {
   "cell_type": "code",
   "execution_count": 2,
   "id": "cc3d978a-135f-4a59-952a-df6c7cea19fd",
   "metadata": {},
   "outputs": [
    {
     "name": "stdout",
     "output_type": "stream",
     "text": [
      "Initialized DVC repository.\n",
      "\n",
      "You can now commit the changes to git.\n",
      "\n",
      "\u001b[31m+---------------------------------------------------------------------+\n",
      "\u001b[0m\u001b[31m|\u001b[0m                                                                     \u001b[31m|\u001b[0m\n",
      "\u001b[31m|\u001b[0m        DVC has enabled anonymous aggregate usage analytics.         \u001b[31m|\u001b[0m\n",
      "\u001b[31m|\u001b[0m     Read the analytics documentation (and how to opt-out) here:     \u001b[31m|\u001b[0m\n",
      "\u001b[31m|\u001b[0m             <\u001b[36mhttps://dvc.org/doc/user-guide/analytics\u001b[39m>              \u001b[31m|\u001b[0m\n",
      "\u001b[31m|\u001b[0m                                                                     \u001b[31m|\u001b[0m\n",
      "\u001b[31m+---------------------------------------------------------------------+\n",
      "\u001b[0m\n",
      "\u001b[33mWhat's next?\u001b[39m\n",
      "\u001b[33m------------\u001b[39m\n",
      "- Check out the documentation: <\u001b[36mhttps://dvc.org/doc\u001b[39m>\n",
      "- Get help and share ideas: <\u001b[36mhttps://dvc.org/chat\u001b[39m>\n",
      "- Star us on GitHub: <\u001b[36mhttps://github.com/iterative/dvc\u001b[39m>\n",
      "\u001b[0m"
     ]
    }
   ],
   "source": [
    "! dvc init\n"
   ]
  },
  {
   "cell_type": "code",
   "execution_count": 4,
   "id": "af9dbb9e-8028-4fb9-a738-5f0dbfeb22ad",
   "metadata": {},
   "outputs": [
    {
     "name": "stdout",
     "output_type": "stream",
     "text": [
      "On branch master\n",
      "Your branch is up to date with 'origin/master'.\n",
      "\n",
      "Changes to be committed:\n",
      "  (use \"git restore --staged <file>...\" to unstage)\n",
      "\t\u001b[32mnew file:   .dvc/.gitignore\u001b[m\n",
      "\t\u001b[32mnew file:   .dvc/config\u001b[m\n",
      "\t\u001b[32mnew file:   .dvcignore\u001b[m\n",
      "\n",
      "Untracked files:\n",
      "  (use \"git add <file>...\" to include in what will be committed)\n",
      "\t\u001b[31m.ipynb_checkpoints/\u001b[m\n",
      "\t\u001b[31mMLOPs.ipynb\u001b[m\n",
      "\n"
     ]
    }
   ],
   "source": [
    "! git status"
   ]
  },
  {
   "cell_type": "code",
   "execution_count": 5,
   "id": "cd083ae9-9c6e-4254-a729-10b2391deb2f",
   "metadata": {},
   "outputs": [
    {
     "name": "stdout",
     "output_type": "stream",
     "text": [
      "[master d9730c7] Initialize DVC\n",
      " 3 files changed, 6 insertions(+)\n",
      " create mode 100644 .dvc/.gitignore\n",
      " create mode 100644 .dvc/config\n",
      " create mode 100644 .dvcignore\n",
      "\u001b[0m                                                                            "
     ]
    }
   ],
   "source": [
    "! git commit -m \"Initialize DVC\"\n",
    "# download the data and save it in a new folder\n",
    "! dvc get https://github.com/iterative/dataset-registry \\\n",
    "          get-started/data.xml -o data/data.xml\n"
   ]
  },
  {
   "cell_type": "code",
   "execution_count": 6,
   "id": "cded522b-e5a9-4fdb-a04d-0cedfcab65c5",
   "metadata": {},
   "outputs": [
    {
     "name": "stdout",
     "output_type": "stream",
     "text": [
      "\u001b[?25l\u001b[32m⠋\u001b[0m Checking graph                                       core\u001b[39m>\n",
      "Adding...                                                                       \n",
      "!\u001b[A\n",
      "Collecting files and computing hashes in data/data.xml |0.00 [00:00,     ?file/s\u001b[A\n",
      "                                                                                \u001b[A\n",
      "!\u001b[A\n",
      "  0% Checking cache in '/home/ali/NPEMF/.dvc/cache/files/md5'| |0/? [00:00<?,   \u001b[A\n",
      "                                                                                \u001b[A\n",
      "!\u001b[A\n",
      "  0%|          |Adding data/data.xml to cache         0/1 [00:00<?,     ?file/s]\u001b[A\n",
      "                                                                                \u001b[A\n",
      "!\u001b[A\n",
      "  0%|          |Checking out /home/ali/NPEMF/data/data0/1 [00:00<?,    ?files/s]\u001b[A\n",
      "100% Adding...|████████████████████████████████████████|1/1 [00:00, 13.18file/s]\u001b[A\n",
      "\n",
      "To track the changes with git, run:\n",
      "\n",
      "\tgit add data/.gitignore data/data.xml.dvc\n",
      "\n",
      "To enable auto staging, run:\n",
      "\n",
      "\tdvc config core.autostage true\n",
      "\u001b[0m"
     ]
    }
   ],
   "source": [
    "! dvc add data/data.xml"
   ]
  },
  {
   "cell_type": "code",
   "execution_count": 7,
   "id": "9005369c-ca9d-46a1-b18d-09213de493fb",
   "metadata": {},
   "outputs": [
    {
     "name": "stdout",
     "output_type": "stream",
     "text": [
      "[master 3560319] Add raw data\n",
      " 2 files changed, 6 insertions(+)\n",
      " create mode 100644 data/.gitignore\n",
      " create mode 100644 data/data.xml.dvc\n"
     ]
    }
   ],
   "source": [
    "! git add data/data.xml.dvc data/.gitignore\n",
    "! git commit -m \"Add raw data\""
   ]
  },
  {
   "cell_type": "code",
   "execution_count": 8,
   "id": "32b7d13a-281a-4a0a-842a-effb83cd3aaa",
   "metadata": {},
   "outputs": [
    {
     "name": "stdout",
     "output_type": "stream",
     "text": [
      "Setting 'myremote' as a default remote.\n",
      "\u001b[0m"
     ]
    }
   ],
   "source": [
    "# local storage\n",
    "! mkdir /tmp/dvcstore\n",
    "! dvc remote add -d myremote /tmp/dvcstore\n",
    "\n",
    "# remote storage\n",
    "# ! dvc remote add -d storage s3://mybucket/dvcstore"
   ]
  },
  {
   "cell_type": "code",
   "execution_count": 10,
   "id": "94018a3a-a1a4-4720-8203-8756794cb87e",
   "metadata": {},
   "outputs": [
    {
     "name": "stdout",
     "output_type": "stream",
     "text": [
      "Collecting                                            |1.00 [00:00,  179entry/s]\n",
      "Pushing\n",
      "!\u001b[A\n",
      "  0% Checking cache in '/tmp/dvcstore/files/md5'|    |0/? [00:00<?,    ?files/s]\u001b[A\n",
      "Pushing                                                                         \u001b[A\n",
      "Everything is up to date.\n",
      "\u001b[0mOn branch master\n",
      "Your branch is ahead of 'origin/master' by 2 commits.\n",
      "  (use \"git push\" to publish your local commits)\n",
      "\n",
      "Changes not staged for commit:\n",
      "  (use \"git add <file>...\" to update what will be committed)\n",
      "  (use \"git restore <file>...\" to discard changes in working directory)\n",
      "\t\u001b[31mmodified:   .dvc/config\u001b[m\n",
      "\n",
      "Untracked files:\n",
      "  (use \"git add <file>...\" to include in what will be committed)\n",
      "\t\u001b[31m.ipynb_checkpoints/\u001b[m\n",
      "\t\u001b[31mMLOPs.ipynb\u001b[m\n",
      "\n",
      "no changes added to commit (use \"git add\" and/or \"git commit -a\")\n",
      "Enter passphrase for key '/home/ali/.ssh/id_ed25519': \n"
     ]
    }
   ],
   "source": [
    "! dvc push\n",
    "# ! dvc pull\n",
    "! git commit data/data.xml.dvc -m \"Dataset updates\"\n",
    "! git push"
   ]
  },
  {
   "cell_type": "code",
   "execution_count": null,
   "id": "0375a5ad-7733-43c3-bf87-9b49e93122c4",
   "metadata": {},
   "outputs": [],
   "source": [
    "# change to an specific version\n",
    "! git checkout 72de82ee151cae08636f90435be6709a8632ac96 # HEAD~1 data/data.xml.dvc # this line will checkout one of the git commits.\n",
    "! dvc checkout # and then dvc checkout makes sure that the data is correctly checked out.\n",
    "\n",
    "# After checking the data, to checkout to the last version of the data. use the following codes.\n",
    "! git checkout main  # or whatever branch you were on\n",
    "! dvc checkout  # to restore the latest version of the data"
   ]
  },
  {
   "cell_type": "code",
   "execution_count": null,
   "id": "9268c7b1-eb37-4f88-a711-cff209c3ecd8",
   "metadata": {},
   "outputs": [],
   "source": [
    "# Use the following after data modification.\n",
    "! dvc add data.xml\n",
    "! git add data.xml.dvc .gitignore\n",
    "! git commit -m 'test the data change'\n",
    "! dvc push\n",
    "! git push"
   ]
  },
  {
   "cell_type": "markdown",
   "id": "e83675f1-fc27-4f7e-82ab-7ac43772a5c2",
   "metadata": {},
   "source": [
    "***2- Data Quality Assurance:***\n",
    "***\n",
    "**2-1- Handling Missing Data:**<br>\n",
    "Imputation: Use mean, median, or forward filling based on historical data for numerical fields like SpotPriceDKK or SpotPurchase. <br>\n",
    "Data Exclusion: If certain columns are irrelevant for specific models, they can be excluded from training."
   ]
  },
  {
   "cell_type": "code",
   "execution_count": 29,
   "id": "76023125-30e8-450f-adac-10498679e340",
   "metadata": {},
   "outputs": [
    {
     "name": "stdout",
     "output_type": "stream",
     "text": [
      "A summary about dataset\n",
      "<class 'pandas.core.frame.DataFrame'>\n",
      "RangeIndex: 99354 entries, 0 to 99353\n",
      "Data columns (total 13 columns):\n",
      " #   Column                Non-Null Count  Dtype         \n",
      "---  ------                --------------  -----         \n",
      " 0   HourUTC               99354 non-null  datetime64[ns]\n",
      " 1   HourDK                99354 non-null  datetime64[ns]\n",
      " 2   PriceArea             99354 non-null  object        \n",
      " 3   SpotPurchase          99354 non-null  float64       \n",
      " 4   SpotSale              99354 non-null  float64       \n",
      " 5   SpotPriceDKK          99354 non-null  float64       \n",
      " 6   ElbasAveragePriceDKK  88398 non-null  float64       \n",
      " 7   ElbasMaxPriceDKK      88398 non-null  float64       \n",
      " 8   ElbasMinPriceDKK      88398 non-null  float64       \n",
      " 9   SpotPriceEUR          99354 non-null  float64       \n",
      " 10  ElbasAveragePriceEUR  88398 non-null  float64       \n",
      " 11  ElbasMaxPriceEUR      88398 non-null  float64       \n",
      " 12  ElbasMinPriceEUR      88398 non-null  float64       \n",
      "dtypes: datetime64[ns](2), float64(10), object(1)\n",
      "memory usage: 9.9+ MB\n",
      "None\n",
      "Missing values in the dataset\n",
      "       HourUTC  HourDK  PriceArea  SpotPurchase  SpotSale  SpotPriceDKK  \\\n",
      "0        False   False      False         False     False         False   \n",
      "1        False   False      False         False     False         False   \n",
      "2        False   False      False         False     False         False   \n",
      "3        False   False      False         False     False         False   \n",
      "4        False   False      False         False     False         False   \n",
      "...        ...     ...        ...           ...       ...           ...   \n",
      "99349    False   False      False         False     False         False   \n",
      "99350    False   False      False         False     False         False   \n",
      "99351    False   False      False         False     False         False   \n",
      "99352    False   False      False         False     False         False   \n",
      "99353    False   False      False         False     False         False   \n",
      "\n",
      "       ElbasAveragePriceDKK  ElbasMaxPriceDKK  ElbasMinPriceDKK  SpotPriceEUR  \\\n",
      "0                      True              True              True         False   \n",
      "1                      True              True              True         False   \n",
      "2                     False             False             False         False   \n",
      "3                     False             False             False         False   \n",
      "4                     False             False             False         False   \n",
      "...                     ...               ...               ...           ...   \n",
      "99349                  True              True              True         False   \n",
      "99350                 False             False             False         False   \n",
      "99351                  True              True              True         False   \n",
      "99352                 False             False             False         False   \n",
      "99353                  True              True              True         False   \n",
      "\n",
      "       ElbasAveragePriceEUR  ElbasMaxPriceEUR  ElbasMinPriceEUR  \n",
      "0                      True              True              True  \n",
      "1                      True              True              True  \n",
      "2                     False             False             False  \n",
      "3                     False             False             False  \n",
      "4                     False             False             False  \n",
      "...                     ...               ...               ...  \n",
      "99349                  True              True              True  \n",
      "99350                 False             False             False  \n",
      "99351                  True              True              True  \n",
      "99352                 False             False             False  \n",
      "99353                  True              True              True  \n",
      "\n",
      "[99354 rows x 13 columns]\n",
      "The number of missing values in the dataset\n",
      "HourUTC                     0\n",
      "HourDK                      0\n",
      "PriceArea                   0\n",
      "SpotPurchase                0\n",
      "SpotSale                    0\n",
      "SpotPriceDKK                0\n",
      "ElbasAveragePriceDKK    10956\n",
      "ElbasMaxPriceDKK        10956\n",
      "ElbasMinPriceDKK        10956\n",
      "SpotPriceEUR                0\n",
      "ElbasAveragePriceEUR    10956\n",
      "ElbasMaxPriceEUR        10956\n",
      "ElbasMinPriceEUR        10956\n",
      "dtype: int64\n",
      "Rows with the missing values\n",
      "                  HourUTC              HourDK PriceArea  SpotPurchase  \\\n",
      "0     2021-04-30 21:00:00 2021-04-30 23:00:00       DK1      0.000000   \n",
      "1     2021-04-30 21:00:00 2021-04-30 23:00:00       DK2    776.000000   \n",
      "25195 2019-11-22 23:00:00 2019-11-23 00:00:00       DK2   1002.400024   \n",
      "40842 2018-12-31 22:00:00 2018-12-31 23:00:00       DK1   1173.599976   \n",
      "40843 2018-12-31 22:00:00 2018-12-31 23:00:00       DK2    878.299988   \n",
      "...                   ...                 ...       ...           ...   \n",
      "99347 2015-08-31 01:00:00 2015-08-31 03:00:00       DK2    839.200012   \n",
      "99348 2015-08-31 00:00:00 2015-08-31 02:00:00       DK1   1313.800049   \n",
      "99349 2015-08-31 00:00:00 2015-08-31 02:00:00       DK2    843.000000   \n",
      "99351 2015-08-30 23:00:00 2015-08-31 01:00:00       DK2    869.900024   \n",
      "99353 2015-08-30 22:00:00 2015-08-31 00:00:00       DK2    922.500000   \n",
      "\n",
      "          SpotSale  SpotPriceDKK  ElbasAveragePriceDKK  ElbasMaxPriceDKK  \\\n",
      "0         0.000000    512.020020                   NaN               NaN   \n",
      "1         0.000000    512.020020                   NaN               NaN   \n",
      "25195   708.700012    256.760010                   NaN               NaN   \n",
      "40842  2982.899902    191.880005                   NaN               NaN   \n",
      "40843  1050.300049    191.880005                   NaN               NaN   \n",
      "...            ...           ...                   ...               ...   \n",
      "99347   109.500000    136.360001                   NaN               NaN   \n",
      "99348   198.899994    135.460007                   NaN               NaN   \n",
      "99349   111.099998    135.460007                   NaN               NaN   \n",
      "99351   102.199997    137.100006                   NaN               NaN   \n",
      "99353    96.900002    141.130005                   NaN               NaN   \n",
      "\n",
      "       ElbasMinPriceDKK  SpotPriceEUR  ElbasAveragePriceEUR  ElbasMaxPriceEUR  \\\n",
      "0                   NaN     68.860001                   NaN               NaN   \n",
      "1                   NaN     68.860001                   NaN               NaN   \n",
      "25195               NaN     34.360001                   NaN               NaN   \n",
      "40842               NaN     25.700001                   NaN               NaN   \n",
      "40843               NaN     25.700001                   NaN               NaN   \n",
      "...                 ...           ...                   ...               ...   \n",
      "99347               NaN     18.270000                   NaN               NaN   \n",
      "99348               NaN     18.150000                   NaN               NaN   \n",
      "99349               NaN     18.150000                   NaN               NaN   \n",
      "99351               NaN     18.370001                   NaN               NaN   \n",
      "99353               NaN     18.910000                   NaN               NaN   \n",
      "\n",
      "       ElbasMinPriceEUR  \n",
      "0                   NaN  \n",
      "1                   NaN  \n",
      "25195               NaN  \n",
      "40842               NaN  \n",
      "40843               NaN  \n",
      "...                 ...  \n",
      "99347               NaN  \n",
      "99348               NaN  \n",
      "99349               NaN  \n",
      "99351               NaN  \n",
      "99353               NaN  \n",
      "\n",
      "[10956 rows x 13 columns]\n"
     ]
    }
   ],
   "source": [
    "# Importing the data from excel and showing the info about whole data\n",
    "import pandas as pd\n",
    "\n",
    "data_path= './data/NordPoolMarket.xlsx'\n",
    "raw_data= pd.read_excel(data_path)\n",
    "missing_values= raw_data.isnull()\n",
    "missing_counts= missing_values.sum() \n",
    "row_with_missing_values= raw_data[raw_data.isnull().any(axis=1)]\n",
    "print('A summary about dataset')\n",
    "print(raw_data.info())\n",
    "print('Missing values in the dataset')\n",
    "print(missing_values)\n",
    "print('The number of missing values in the dataset')\n",
    "print(missing_counts)\n",
    "print('Rows with the missing values')\n",
    "print(row_with_missing_values)"
   ]
  },
  {
   "cell_type": "code",
   "execution_count": 37,
   "id": "b9c3aafc-befe-4cc2-b2be-c8c2fb70ec03",
   "metadata": {},
   "outputs": [],
   "source": [
    "raw_data_1= raw_data.drop(columns='HourUTC') # removing UTC time to proceed just with DK time.\n",
    "# Fill in the missing values using interpolation for elbas datas and mean for others.\n",
    "raw_data_1['ElbasAveragePriceDKK']= raw_data_1['ElbasAveragePriceDKK'].interpolate(method='linear') \n",
    "raw_data_1['ElbasMaxPriceDKK']= raw_data_1['ElbasMaxPriceDKK'].interpolate(method='linear') \n",
    "raw_data_1['ElbasMinPriceDKK']= raw_data_1['ElbasMinPriceDKK'].interpolate(method='linear')\n",
    "raw_data_1['ElbasAveragePriceEUR']= raw_data_1['ElbasAveragePriceEUR'].interpolate(method='linear') \n",
    "raw_data_1['ElbasMaxPriceEUR']= raw_data_1['ElbasMaxPriceEUR'].interpolate(method='linear') \n",
    "raw_data_1['ElbasMinPriceEUR']= raw_data_1['ElbasMinPriceEUR'].interpolate(method='linear')\n",
    "raw_data_1.isnull().sum()\n",
    "# We can see that there are still nul cells in the dataframe\n"
   ]
  },
  {
   "cell_type": "code",
   "execution_count": 40,
   "id": "b1632dc5-9444-4623-8657-51dc7ce171d4",
   "metadata": {},
   "outputs": [
    {
     "data": {
      "text/html": [
       "<div>\n",
       "<style scoped>\n",
       "    .dataframe tbody tr th:only-of-type {\n",
       "        vertical-align: middle;\n",
       "    }\n",
       "\n",
       "    .dataframe tbody tr th {\n",
       "        vertical-align: top;\n",
       "    }\n",
       "\n",
       "    .dataframe thead th {\n",
       "        text-align: right;\n",
       "    }\n",
       "</style>\n",
       "<table border=\"1\" class=\"dataframe\">\n",
       "  <thead>\n",
       "    <tr style=\"text-align: right;\">\n",
       "      <th></th>\n",
       "      <th>HourDK</th>\n",
       "      <th>PriceArea</th>\n",
       "      <th>SpotPurchase</th>\n",
       "      <th>SpotSale</th>\n",
       "      <th>SpotPriceDKK</th>\n",
       "      <th>ElbasAveragePriceDKK</th>\n",
       "      <th>ElbasMaxPriceDKK</th>\n",
       "      <th>ElbasMinPriceDKK</th>\n",
       "      <th>SpotPriceEUR</th>\n",
       "      <th>ElbasAveragePriceEUR</th>\n",
       "      <th>ElbasMaxPriceEUR</th>\n",
       "      <th>ElbasMinPriceEUR</th>\n",
       "    </tr>\n",
       "  </thead>\n",
       "  <tbody>\n",
       "    <tr>\n",
       "      <th>0</th>\n",
       "      <td>2021-04-30 23:00:00</td>\n",
       "      <td>DK1</td>\n",
       "      <td>0.0</td>\n",
       "      <td>0.0</td>\n",
       "      <td>512.02002</td>\n",
       "      <td>NaN</td>\n",
       "      <td>NaN</td>\n",
       "      <td>NaN</td>\n",
       "      <td>68.860001</td>\n",
       "      <td>NaN</td>\n",
       "      <td>NaN</td>\n",
       "      <td>NaN</td>\n",
       "    </tr>\n",
       "    <tr>\n",
       "      <th>1</th>\n",
       "      <td>2021-04-30 23:00:00</td>\n",
       "      <td>DK2</td>\n",
       "      <td>776.0</td>\n",
       "      <td>0.0</td>\n",
       "      <td>512.02002</td>\n",
       "      <td>NaN</td>\n",
       "      <td>NaN</td>\n",
       "      <td>NaN</td>\n",
       "      <td>68.860001</td>\n",
       "      <td>NaN</td>\n",
       "      <td>NaN</td>\n",
       "      <td>NaN</td>\n",
       "    </tr>\n",
       "  </tbody>\n",
       "</table>\n",
       "</div>"
      ],
      "text/plain": [
       "               HourDK PriceArea  SpotPurchase  SpotSale  SpotPriceDKK  \\\n",
       "0 2021-04-30 23:00:00       DK1           0.0       0.0     512.02002   \n",
       "1 2021-04-30 23:00:00       DK2         776.0       0.0     512.02002   \n",
       "\n",
       "   ElbasAveragePriceDKK  ElbasMaxPriceDKK  ElbasMinPriceDKK  SpotPriceEUR  \\\n",
       "0                   NaN               NaN               NaN     68.860001   \n",
       "1                   NaN               NaN               NaN     68.860001   \n",
       "\n",
       "   ElbasAveragePriceEUR  ElbasMaxPriceEUR  ElbasMinPriceEUR  \n",
       "0                   NaN               NaN               NaN  \n",
       "1                   NaN               NaN               NaN  "
      ]
     },
     "execution_count": 40,
     "metadata": {},
     "output_type": "execute_result"
    }
   ],
   "source": [
    "raw_data_1.isnull().sum()\n",
    "raw_data_1[raw_data_1.isnull().any(axis=1)]"
   ]
  },
  {
   "cell_type": "code",
   "execution_count": null,
   "id": "fc45ac36-b8bc-42e5-acf1-a0cd5c9fe85a",
   "metadata": {},
   "outputs": [],
   "source": []
  }
 ],
 "metadata": {
  "kernelspec": {
   "display_name": "Python 3 (ipykernel)",
   "language": "python",
   "name": "python3"
  },
  "language_info": {
   "codemirror_mode": {
    "name": "ipython",
    "version": 3
   },
   "file_extension": ".py",
   "mimetype": "text/x-python",
   "name": "python",
   "nbconvert_exporter": "python",
   "pygments_lexer": "ipython3",
   "version": "3.12.5"
  }
 },
 "nbformat": 4,
 "nbformat_minor": 5
}
